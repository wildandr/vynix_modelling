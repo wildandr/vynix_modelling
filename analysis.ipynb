{
 "cells": [
  {
   "cell_type": "code",
   "execution_count": 1,
   "id": "d535069b",
   "metadata": {},
   "outputs": [
    {
     "name": "stdout",
     "output_type": "stream",
     "text": [
      "First 5 rows:\n",
      "         time  open  high   low  close  Volume   K   D\n",
      "0 -3121407238  4.50  4.50  4.50   4.50       0 NaN NaN\n",
      "1 -3118988038  4.61  4.61  4.61   4.61       0 NaN NaN\n",
      "2 -3113717638  4.86  4.86  4.86   4.86       0 NaN NaN\n",
      "3 -3111039238  4.82  4.82  4.82   4.82       0 NaN NaN\n",
      "4 -3105768838  4.79  4.79  4.79   4.79       0 NaN NaN\n",
      "\n",
      "Last 5 rows:\n",
      "             time     open     high      low    close      Volume           K  \\\n",
      "25010  1751290200  6192.62  6215.08  6174.97  6204.94  3214000000  100.000000   \n",
      "25011  1751376600  6187.25  6210.78  6177.97  6198.02  3468000000   97.940162   \n",
      "25012  1751463000  6193.88  6227.60  6188.29  6227.41  3065000000   97.940162   \n",
      "25013  1751549400  6246.46  6284.65  6246.46  6279.36  1790000000   97.940162   \n",
      "25014  1751895000  6259.04  6262.07  6201.00  6229.99  2648000000   87.931693   \n",
      "\n",
      "               D  \n",
      "25010  93.273415  \n",
      "25011  97.069637  \n",
      "25012  98.626775  \n",
      "25013  97.940162  \n",
      "25014  94.604006  \n",
      "\n",
      "Total number of rows: 25015\n",
      "\n",
      "Column names: ['time', 'open', 'high', 'low', 'close', 'Volume', 'K', 'D']\n"
     ]
    },
    {
     "name": "stderr",
     "output_type": "stream",
     "text": [
      "/var/folders/4j/mq2gf9sd5jdctl1v6ndqhqlm0000gn/T/ipykernel_36572/1895839533.py:1: DeprecationWarning: \n",
      "Pyarrow will become a required dependency of pandas in the next major release of pandas (pandas 3.0),\n",
      "(to allow more performant data types, such as the Arrow string type, and better interoperability with other libraries)\n",
      "but was not found to be installed on your system.\n",
      "If this would cause problems for you,\n",
      "please provide us feedback at https://github.com/pandas-dev/pandas/issues/54466\n",
      "        \n",
      "  import pandas as pd\n"
     ]
    }
   ],
   "source": [
    "import pandas as pd\n",
    "\n",
    "# Read the CSV file\n",
    "df = pd.read_csv('SP_SPX_1D.csv')\n",
    "\n",
    "# Show first 5 rows\n",
    "print(\"First 5 rows:\")\n",
    "print(df.head())\n",
    "print(\"\\nLast 5 rows:\")\n",
    "print(df.tail())\n",
    "print(\"\\nTotal number of rows:\", len(df))\n",
    "print(\"\\nColumn names:\", list(df.columns))"
   ]
  }
 ],
 "metadata": {
  "kernelspec": {
   "display_name": "Python 3",
   "language": "python",
   "name": "python3"
  },
  "language_info": {
   "codemirror_mode": {
    "name": "ipython",
    "version": 3
   },
   "file_extension": ".py",
   "mimetype": "text/x-python",
   "name": "python",
   "nbconvert_exporter": "python",
   "pygments_lexer": "ipython3",
   "version": "3.10.11"
  }
 },
 "nbformat": 4,
 "nbformat_minor": 5
}
